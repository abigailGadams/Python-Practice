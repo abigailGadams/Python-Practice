{
 "cells": [
  {
   "cell_type": "markdown",
   "source": [
    "# HW2 Numbers have a Function\n",
    "Submit your copy of this notebook with values filled in on Canvas. The following function is here for helping"
   ],
   "metadata": {}
  },
  {
   "cell_type": "code",
   "execution_count": 14,
   "source": [
    "'''Placing all import statements and supplementary functions here for ease of use'''\n",
    "import math\n",
    "import random\n",
    "%matplotlib inline\n",
    "import numpy as np\n",
    "import matplotlib.pyplot as plt\n",
    "\n",
    "def plotF(func):\n",
    "  '''\n",
    "  This function applies a function to a set of values and plots the output\n",
    "    Input(s):\n",
    "      func : The function to which inputs are applied within the function. (Object)\n",
    "    Returns:\n",
    "      None\n",
    "  '''\n",
    "  X = np.linspace(-20,20,10000, endpoint=True)\n",
    "  vfunc = np.vectorize(func)\n",
    "  R = vfunc(X)\n",
    "  plt.plot(X, R)\n",
    "  plt.show()"
   ],
   "outputs": [],
   "metadata": {}
  },
  {
   "cell_type": "markdown",
   "source": [
    "## Variables\n",
    "1. Which of the following are valid variable names?_______________\n",
    "<ol type=\"a\">\n",
    "  <li>X</li>\n",
    "  <li>X1</li>\n",
    "  <li>1X</li>\n",
    "  <li>X_1</li>\n",
    "  <li>IsThisAVariable</li>\n",
    "  <li>Is This A Variable</li>\n",
    "  <li>is_this_a_variable</li>\n",
    "</ol>\n"
   ],
   "metadata": {}
  },
  {
   "cell_type": "raw",
   "source": [
    "a,b,d,e,g\n"
   ],
   "metadata": {}
  },
  {
   "cell_type": "markdown",
   "source": [
    "## Numbers"
   ],
   "metadata": {}
  },
  {
   "cell_type": "markdown",
   "source": [
    "### Classify number by type\n",
    "\n",
    "2) For each of the following number types, write the python type, and an example with ||1|| in the table below."
   ],
   "metadata": {}
  },
  {
   "cell_type": "markdown",
   "source": [
    "| type        | $\\mathbb{B}$ | $\\mathbb{Z}$ | $\\mathbb{R}$ | $\\mathbb{C}$ |\n",
    "|-------------|--------------|--------------|--------------|--------------|\n",
    "| Python type |       'bool' |   'int'      |   'float'    |    'complex' |\n",
    "| Example     |T = bool(1)   | -2147483650  | pi = 3..14159| d = 1 + 5j   |"
   ],
   "metadata": {}
  },
  {
   "cell_type": "markdown",
   "source": [
    "### Conversion between types\n",
    "\n",
    "3) Write the function that performs the type conversion in the table bellow"
   ],
   "metadata": {}
  },
  {
   "cell_type": "markdown",
   "source": [
    "| Mapping                           | Function  |\n",
    "|-----------------------------------|-----------|\n",
    "| Int $\\rightarrow$ Float           | float(int)|\n",
    "| Float $\\rightarrow$ Int           | int(float)|\n",
    "| {Int,Float} $\\rightarrow$ complex |          |\n",
    "| {Int,Float} $\\rightarrow$ Boolean | _         |"
   ],
   "metadata": {}
  },
  {
   "cell_type": "markdown",
   "source": [
    "### Operators\n",
    "4) What type of operators compare two Booleans?"
   ],
   "metadata": {}
  },
  {
   "cell_type": "markdown",
   "source": [
    "and\n",
    "or\n",
    "not\n",
    "^"
   ],
   "metadata": {}
  },
  {
   "cell_type": "markdown",
   "source": [
    "5. What type of operators use two numbers to make a Boolean?"
   ],
   "metadata": {}
  },
  {
   "cell_type": "markdown",
   "source": [
    "True False not"
   ],
   "metadata": {}
  },
  {
   "cell_type": "markdown",
   "source": [
    "6. For the symbols bellow fill in the operation performed (English name) and what the resulting type or types can be for each of the cases of inputs to the operator. (A∘B→C, what is the type of C given types for A and B) "
   ],
   "metadata": {}
  },
  {
   "cell_type": "markdown",
   "source": [
    "| Symbol | Task Performed | int,int | int,real | real,real | complex, real |\n",
    "|--------|----------------|---------|----------|-----------|---------------|\n",
    "| +      |                |         |          |           |               |\n",
    "| -      |                |         |          |           |               |\n",
    "| /      |                |         |          |           |               |\n",
    "| %      |                |         |          |           |               |\n",
    "| *      |                |         |          |           |               |\n",
    "| //     |                |         |          |           |               |\n",
    "| **     |                |         |          |           |               |"
   ],
   "metadata": {}
  },
  {
   "cell_type": "markdown",
   "source": [
    "## Functions \n",
    "For the following section, for each function, write a document string and in it you must identify the domain and co-domain of the function. \n"
   ],
   "metadata": {}
  },
  {
   "cell_type": "markdown",
   "source": [
    "### Simple Functions\n",
    "7. Write a function that takes in a side for a hexagon and returns the area"
   ],
   "metadata": {}
  },
  {
   "cell_type": "code",
   "execution_count": 4,
   "source": [
    "\"Code 7 here\""
   ],
   "outputs": [
    {
     "output_type": "execute_result",
     "data": {
      "text/plain": [
       "'Code 7 here'"
      ]
     },
     "metadata": {},
     "execution_count": 4
    }
   ],
   "metadata": {}
  },
  {
   "cell_type": "markdown",
   "source": [
    "8. Write a function that takes in a side for a pentagon and returns the area"
   ],
   "metadata": {}
  },
  {
   "cell_type": "code",
   "execution_count": 5,
   "source": [
    "\"Code 8 here\""
   ],
   "outputs": [
    {
     "output_type": "execute_result",
     "data": {
      "text/plain": [
       "'Code 8 here'"
      ]
     },
     "metadata": {},
     "execution_count": 5
    }
   ],
   "metadata": {}
  },
  {
   "cell_type": "markdown",
   "source": [
    "9. Write a function that convers height in ft and inches to centimeters"
   ],
   "metadata": {}
  },
  {
   "cell_type": "code",
   "execution_count": 6,
   "source": [
    "\"Code 9 here\""
   ],
   "outputs": [
    {
     "output_type": "execute_result",
     "data": {
      "text/plain": [
       "'Code 9 here'"
      ]
     },
     "metadata": {},
     "execution_count": 6
    }
   ],
   "metadata": {}
  },
  {
   "cell_type": "markdown",
   "source": [
    "10. Write a function that takes in the side and length and returns the volume of a hexagonal prism. Use the hexagon area function from above."
   ],
   "metadata": {}
  },
  {
   "cell_type": "code",
   "execution_count": 7,
   "source": [
    "\"Code 10 here\""
   ],
   "outputs": [
    {
     "output_type": "execute_result",
     "data": {
      "text/plain": [
       "'Code 10 here'"
      ]
     },
     "metadata": {},
     "execution_count": 7
    }
   ],
   "metadata": {}
  },
  {
   "cell_type": "markdown",
   "source": [
    "11. Write a function that takes in the temperature and either converts Fahrenheit to Celsius or Celsius to Fahrenheit depending on a second Boolean input. \n"
   ],
   "metadata": {}
  },
  {
   "cell_type": "code",
   "execution_count": 8,
   "source": [
    "\"Code 11 here\""
   ],
   "outputs": [
    {
     "output_type": "execute_result",
     "data": {
      "text/plain": [
       "'Code 11 here'"
      ]
     },
     "metadata": {},
     "execution_count": 8
    }
   ],
   "metadata": {}
  },
  {
   "cell_type": "markdown",
   "source": [
    "12. Make the function above and default it to convert from F to C"
   ],
   "metadata": {}
  },
  {
   "cell_type": "code",
   "execution_count": 9,
   "source": [
    "\"Code 12 here\""
   ],
   "outputs": [
    {
     "output_type": "execute_result",
     "data": {
      "text/plain": [
       "'Code 12 here'"
      ]
     },
     "metadata": {},
     "execution_count": 9
    }
   ],
   "metadata": {}
  },
  {
   "cell_type": "markdown",
   "source": [
    "### Piecewise and Periodic functions\n",
    "13. Make a function that returns the value of the following\n",
    "\n",
    "\n",
    "![image.png](attachment:673778a1-36d3-4390-8ab8-817c4e31540b.png)"
   ],
   "metadata": {},
   "attachments": {
    "673778a1-36d3-4390-8ab8-817c4e31540b.png": {
     "image/png": "[encoded data removed]"
    }
   }
  },
  {
   "cell_type": "code",
   "execution_count": 10,
   "source": [
    "\"Code 13 here\""
   ],
   "outputs": [
    {
     "output_type": "execute_result",
     "data": {
      "text/plain": [
       "'Code 13 here'"
      ]
     },
     "metadata": {},
     "execution_count": 10
    }
   ],
   "metadata": {}
  },
  {
   "cell_type": "markdown",
   "source": [
    "14. Write a function that calculates the value of a triangle wave with a period of 10 and goes between -1 and 1"
   ],
   "metadata": {}
  },
  {
   "cell_type": "code",
   "execution_count": 11,
   "source": [
    "\"Code 14 here\""
   ],
   "outputs": [
    {
     "output_type": "execute_result",
     "data": {
      "text/plain": [
       "'Code 14 here'"
      ]
     },
     "metadata": {},
     "execution_count": 11
    }
   ],
   "metadata": {}
  },
  {
   "cell_type": "markdown",
   "source": [
    "15. Write a function that calculates the value of a square wave with a 50% duty cycle, period of 10 and range of 0 to 1."
   ],
   "metadata": {}
  },
  {
   "cell_type": "code",
   "execution_count": 12,
   "source": [
    "\"Code 15 here\""
   ],
   "outputs": [
    {
     "output_type": "execute_result",
     "data": {
      "text/plain": [
       "'Code 15 here'"
      ]
     },
     "metadata": {},
     "execution_count": 12
    }
   ],
   "metadata": {}
  },
  {
   "cell_type": "code",
   "execution_count": null,
   "source": [],
   "outputs": [],
   "metadata": {}
  }
 ],
 "metadata": {
  "kernelspec": {
   "name": "python3",
   "display_name": "Python 3.9.7 64-bit"
  },
  "language_info": {
   "codemirror_mode": {
    "name": "ipython",
    "version": 3
   },
   "file_extension": ".py",
   "mimetype": "text/x-python",
   "name": "python",
   "nbconvert_exporter": "python",
   "pygments_lexer": "ipython3",
   "version": "3.9.7"
  },
  "interpreter": {
   "hash": "aee8b7b246df8f9039afb4144a1f6fd8d2ca17a180786b69acc140d282b71a49"
  }
 },
 "nbformat": 4,
 "nbformat_minor": 5
}